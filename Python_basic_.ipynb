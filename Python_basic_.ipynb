{
  "nbformat": 4,
  "nbformat_minor": 0,
  "metadata": {
    "colab": {
      "provenance": []
    },
    "kernelspec": {
      "name": "python3",
      "display_name": "Python 3"
    },
    "language_info": {
      "name": "python"
    }
  },
  "cells": [
    {
      "cell_type": "markdown",
      "source": [
        "1. What is Python, and why is it popular ?\n",
        "   - Python is a high level,interpreted programming language.That widely used for various perposes .\n",
        "   such as:\n",
        "            A. Web development.\n",
        "            B. Data analysis.\n",
        "            C. artificial intelligence.\n",
        "\n",
        "    \n",
        "   Python is kmown or popular for\n",
        "   - A. Easy to learn and use .\n",
        "     B. Scalability and versatility.\n",
        "     C. Scrong community.\n",
        "     D. Large extensive libraries.\n",
        "  Python is a popular choice among devolopers , deta scientists and researchers due to its flexibility, simplicity and easy to use.\n",
        "\n",
        " 2. What is an interpreter in Python ?\n",
        "   -  An python interpreter trancelate and executes code line by line during runtime .\n",
        "   A. Executions - Read and executes code statement at time .\n",
        "   B. Speed - Slower speed , Because translate happens during executions .\n",
        "   C. Bytecode generations - Converting python code into bytecode .\n",
        "   D. Erroe handling - Stop at the first error, and slow it immediately.\n",
        "   E. Output - No seperate output file . It just run the program .\n",
        "\n",
        "3. What are pre-defined keywords in Python ?\n",
        "  - Name suggest , Pre-define keyword are predefine  words thats hold a special meaning and have specific perpous in python.\n",
        " Such as :\n",
        "   False      await      else       import     pass\n",
        "None       break      except     in         raise\n",
        "True       class      finally    is         return\n",
        "and        continue   for        lambda     try\n",
        "as         def        from       nonlocal   while\n",
        "assert     del        global     not        with\n",
        "async  .\n",
        "\n",
        "4. Can keywords be used as variable names ?\n",
        "  - No python keywords cannot be used as variable name .\n",
        "  Using a keyword as variable name will result in a \"Syntex Error\" (class=5).\n",
        "\n",
        "5. What is mutability in Python ?\n",
        "  - Mutability in python refers to the ability of an object to be modified after its creations.\n",
        "  Examples:\n",
        "       A. Lists\n",
        "       B. Dictionaries.\n",
        "       C.sets.\n",
        "      \n",
        "6. Why are lists mutable, but tuples are immutable ?\n",
        "  - Lists are mutable in python becouse they are desined to be dynamic deta structures that can be modified after creations .\n",
        "    Tupels are immutable in python beciuse they are desined to be static deta structures that  cannot be modified after creations. It gives  deta sefty and code safty.\n",
        "\n",
        "7. What is the difference between “==” and “is” operators in Python ?\n",
        "  -\n",
        "  Equality operotor(\"==\") : Check the value of two object are equal or not . Return \"true\" if the values are equal , \"false\" otherwise .\n",
        "\n",
        "  Identity operator(\"is\") : Compare the memory locations of the same object . Return \"true\" if both variable point to the same object, \"false\" otherwise .\n",
        "\n",
        "\n",
        "8. What are logical operators in Python ?\n",
        "  - Logical operator are special symbol or keyword used to perform logical operations  on boolean values or expression.\n",
        "  There are two types of logical operators in python , such as: \"And\", \"Or\".\n",
        "\n",
        "  And operator - Return \"true\" if both options is \"true\", and return \"false\" \"false\" if one operator are \"false\" . like: true and true = true , true and false = false.\n",
        "  Or operator - Return \"true\" if atleast one operator are \"true\", and  Return \"fauls\" if both operators are \"false\".like: ture or false = ture , false or false = false .\n",
        "\n",
        "9. What is type casting in Python ?\n",
        "  - While executing using oporators there can be mismach between the deta type .Chenging the deta type or format of an value or object is called type casting . Like:sring and float can not be calculated together so here we can use type casting to chenge the type of one object  and calculated variables .-\n",
        "  - a=\"2\"\n",
        "  - b= 5\n",
        "  - int(a)+b\n",
        "  Here we chenge (a=\"2\") string to integer\n",
        "  10. What is the difference between implicit and explicit type casting ?\n",
        "     - Implicit type casting : Implicit type casting performd by python interpreter automatically. Occurs when python converts on deta type to another without explicit instructions.\n",
        "     - example:\n",
        "       - a=5\n",
        "        b=2.5\n",
        "        result=(a+b)    >>Here the result would be 7.5\n",
        "      \n",
        "     Explicit typecasting :  Explicit typecasting are performed by the programmer using type casting functions like int. float. str. etc..\n",
        "    - Example\n",
        "    - a=\"2\"\n",
        "    - b= 5\n",
        "   - int(a)+b\n",
        "\n",
        "11. What is the purpose of conditional statements in Python ?\n",
        "   - The perpose of Coditional statemet in python is to :\n",
        "   A. Control flow - Conditional statement allows you to control the flow of your prgram executions, based on specific conditions .\n",
        "   B. Make decitions - Conditional statements enable your program to make decitions based on conditions such as comparing values,checking user input .etc..\n",
        "   C.Execute code conditionally - Conditional statement allow you too execute specific blocks of codes only when certain conditions are met .\n",
        "   - In python conditional statement are:\n",
        "    a. if statement.\n",
        "    b.  if else statement.\n",
        "    c. if elif else (else if) statement .\n",
        "    d.nested if else statement .\n",
        "12. How does the elif statement work ?\n",
        "   -  The elif statement is used to check onother conditions . If the initial conditions if false it's shortened from of \"else if\".\n",
        "   - here how is work\n",
        "- a=100\n",
        "- if a > 100:\n",
        "    print(\"this block will be executed if a is greter than 100.\")\n",
        "- elif a < 100:\n",
        "    print(\"this block will excuted if a is lesser than 100.\")\n",
        "- else:\n",
        "    print(\"the number is equall to 100.\")\n",
        "- Here the else statement met the condition and it will print the else statement .\n",
        "\n",
        "\n",
        "13. What is the difference between for and while loops ?\n",
        "   - In python while loops and for loops are both used for repetitive execution of code but  differ in appoach and usage\n",
        "   - While loops:\n",
        "   -  A. Conditions based - A while loop continue to execute as long as a - certain onditions is true .\n",
        "    - B. Manual iteration - you need to manually update the loop variable to avoid an infinite loop.\n",
        "    - C. Unknown number of iterations - While loops are useful whwn you don't khow in advance how meny times the loop will iterate.\n",
        "     \n",
        "  - For loops:\n",
        "  - A. Irations based - A for loops iterates over a sequence(such as a lis, tupels and string)\n",
        "  - B. Automatic iteration - The loop variable is automatically update to the next value in the sequance .\n",
        "  - C. Known number of ierations - For loops are usefull whwn you khow in advance how meny time the loops will iterate.\n",
        "\n",
        "14. Describe a scenario where a while loop is more suitable than a for loop ?\n",
        "  - Here's a scenario where a while loop is more suitable than a for loop:\n",
        "   Simulating a game where the user has to guess a random number between 1 and 100. The game continues until the user guesses the correct number.\n",
        "- In this scenario, a while loop is more suitable because:\n",
        "\n",
        "- The number of iterations is unknown in advance, as it depends on the user's guesses.\n",
        "- The loop should continue until a certain condition is met (i.e., the user guesses the correct number).\n"
      ],
      "metadata": {
        "id": "wLPotE2MQcBW"
      }
    },
    {
      "cell_type": "markdown",
      "source": [
        "# Python Besic"
      ],
      "metadata": {
        "id": "lgowytt5PhSt"
      }
    },
    {
      "cell_type": "code",
      "source": [
        "# 1. Write a Python program to print \"Hello, World!\n",
        "print(\"hello,world\")"
      ],
      "metadata": {
        "colab": {
          "base_uri": "https://localhost:8080/"
        },
        "id": "RRTW20Ojh5sf",
        "outputId": "09639d3d-ee4a-407b-bf2c-c8b54d3d5ca0"
      },
      "execution_count": null,
      "outputs": [
        {
          "output_type": "stream",
          "name": "stdout",
          "text": [
            "hello,world\n"
          ]
        }
      ]
    },
    {
      "cell_type": "code",
      "source": [
        "# 2. Write a Python program that displays your name and age.\n",
        "name=\"Sandip Roy\"\n",
        "age=21\n",
        "print(name)\n",
        "print(age)"
      ],
      "metadata": {
        "colab": {
          "base_uri": "https://localhost:8080/"
        },
        "id": "m9dBuFTOirDr",
        "outputId": "e77e1960-eb6b-42d7-9e51-ac11f10bf512"
      },
      "execution_count": null,
      "outputs": [
        {
          "output_type": "stream",
          "name": "stdout",
          "text": [
            "Sandip Roy\n",
            "21\n"
          ]
        }
      ]
    },
    {
      "cell_type": "code",
      "source": [
        "# 3. Write code to print all the pre-defined keywords in Python using the keyword library.\n",
        "help(\"keyword\")"
      ],
      "metadata": {
        "colab": {
          "base_uri": "https://localhost:8080/"
        },
        "id": "ZF_XNhKmjb76",
        "outputId": "e79e7882-6e57-408f-bcf6-49197fc6a488"
      },
      "execution_count": null,
      "outputs": [
        {
          "output_type": "stream",
          "name": "stdout",
          "text": [
            "Help on module keyword:\n",
            "\n",
            "NAME\n",
            "    keyword - Keywords (from \"Grammar/python.gram\")\n",
            "\n",
            "MODULE REFERENCE\n",
            "    https://docs.python.org/3.11/library/keyword.html\n",
            "    \n",
            "    The following documentation is automatically generated from the Python\n",
            "    source files.  It may be incomplete, incorrect or include features that\n",
            "    are considered implementation detail and may vary between Python\n",
            "    implementations.  When in doubt, consult the module reference at the\n",
            "    location listed above.\n",
            "\n",
            "DESCRIPTION\n",
            "    This file is automatically generated; please don't muck it up!\n",
            "    \n",
            "    To update the symbols in this file, 'cd' to the top directory of\n",
            "    the python source tree and run:\n",
            "    \n",
            "        PYTHONPATH=Tools/peg_generator python3 -m pegen.keywordgen         Grammar/python.gram         Grammar/Tokens         Lib/keyword.py\n",
            "    \n",
            "    Alternatively, you can run 'make regen-keyword'.\n",
            "\n",
            "FUNCTIONS\n",
            "    iskeyword = __contains__(...) method of builtins.frozenset instance\n",
            "        x.__contains__(y) <==> y in x.\n",
            "    \n",
            "    issoftkeyword = __contains__(...) method of builtins.frozenset instance\n",
            "        x.__contains__(y) <==> y in x.\n",
            "\n",
            "DATA\n",
            "    __all__ = ['iskeyword', 'issoftkeyword', 'kwlist', 'softkwlist']\n",
            "    kwlist = ['False', 'None', 'True', 'and', 'as', 'assert', 'async', 'aw...\n",
            "    softkwlist = ['_', 'case', 'match']\n",
            "\n",
            "FILE\n",
            "    /usr/lib/python3.11/keyword.py\n",
            "\n",
            "\n"
          ]
        }
      ]
    },
    {
      "cell_type": "code",
      "source": [
        "# 4. Write a program that checks if a given word is a Python keyword.\n",
        "def check_keyword(word):\n",
        "    if keyword.iskeyword(word):\n",
        "        print(f\"'{word}' is a Python keyword.\")\n",
        "    else:\n",
        "        print(f\"'{word}' is not a Python keyword.\")\n",
        "\n",
        "def main():\n",
        "    word = input(\"Enter a word: \")\n",
        "    check_keyword(word)\n",
        "\n",
        "if __name__ == \"__main__\":\n",
        "    main()\n"
      ],
      "metadata": {
        "id": "QtACsei4jb4J",
        "colab": {
          "base_uri": "https://localhost:8080/"
        },
        "outputId": "65fc6f39-7158-46ce-9bed-3ce760103a09"
      },
      "execution_count": 37,
      "outputs": [
        {
          "output_type": "stream",
          "name": "stdout",
          "text": [
            "Enter a word: hoii\n",
            "'hoii' is not a Python keyword.\n"
          ]
        }
      ]
    },
    {
      "cell_type": "code",
      "source": [
        "# 5. Create a list and tuple in Python, and demonstrate how attempting to change an element works differently for each.\n",
        "# creat a lists\n",
        "my_lists=[1,2,3,4,5]\n",
        "my_lists[0]=10\n",
        "print(my_lists,\"after attemoting to chenge an element\")\n",
        "# creat a tuple\n",
        "my_tuple=(1,2,3,4,5)\n",
        "print(my_tuple)\n",
        "try:\n",
        "    my_tuple[0]=10\n",
        "except TypeError as e:\n",
        "    print(f\"Error: {e}\")\n",
        "    print(\"Tuples are immutable and their elements cannot be changed after creation.\")"
      ],
      "metadata": {
        "colab": {
          "base_uri": "https://localhost:8080/"
        },
        "id": "1ywEjlrKjb0h",
        "outputId": "5e8a0315-a23b-4f4e-c5ec-9ec5615b599d"
      },
      "execution_count": 8,
      "outputs": [
        {
          "output_type": "stream",
          "name": "stdout",
          "text": [
            "[10, 2, 3, 4, 5] after attemoting to chenge an element\n",
            "(1, 2, 3, 4, 5)\n",
            "Error: 'tuple' object does not support item assignment\n",
            "Tuples are immutable and their elements cannot be changed after creation.\n"
          ]
        }
      ]
    },
    {
      "cell_type": "code",
      "source": [
        "# 6. Write a function to demonstrate the behavior of mutable and immutable arguments.\n",
        "my_lists=[\"egg\",\"lemon\",\"coffe\"]\n",
        "my_lists[0]=\"apple\"\n",
        "print(my_lists,\"after attemoting to chenge an element\")\n",
        "\n",
        "# Function to demonstrate mutable arguments (lists) which can not be chenged\n",
        "my_str=\"i am sandip\"\n",
        "print(my_str)\n",
        "try:\n",
        "    my_str[0] =5\n",
        "    print(my_str)\n",
        "except TypeError as e:\n",
        "    print(f\"Error: {e}\")\n",
        "    print(\"string are  immutable arguments cannot be changed after creation.\")\n"
      ],
      "metadata": {
        "id": "1Cc7JMfTjbwc",
        "colab": {
          "base_uri": "https://localhost:8080/"
        },
        "outputId": "7905c147-5727-40eb-8448-c24232bb0175"
      },
      "execution_count": 13,
      "outputs": [
        {
          "output_type": "stream",
          "name": "stdout",
          "text": [
            "['apple', 'lemon', 'coffe'] after attemoting to chenge an element\n",
            "i am sandip\n",
            "Error: 'str' object does not support item assignment\n",
            "string are  immutable arguments cannot be changed after creation.\n"
          ]
        }
      ]
    },
    {
      "cell_type": "code",
      "source": [
        "# 7. Write a program that performs basic arithmetic operations on two user-input numbers.\n",
        "try:\n",
        "  num1 = float(input(\"Enter the first number: \"))\n",
        "  num2 = float(input(\"Enter the second number: \"))\n",
        "\n",
        "  # Perform arithmetic operations\n",
        "  print(f\"{num1} + {num2} = {num1 + num2}\")\n",
        "\n",
        "  # Add a check for division by zero\n",
        "  if num2 != 0:\n",
        "    print(f\"{num1} / {num2} = {num1 / num2}\")\n",
        "  else:\n",
        "    print(\"Cannot divide by zero!\")\n",
        "\n",
        "except ValueError:\n",
        "  print(\"Invalid input. Please enter a number.\")"
      ],
      "metadata": {
        "colab": {
          "base_uri": "https://localhost:8080/"
        },
        "id": "NlcqIDV4bSTZ",
        "outputId": "ae265648-f3a0-4bcf-da1f-2d61ae69f0f8"
      },
      "execution_count": 19,
      "outputs": [
        {
          "output_type": "stream",
          "name": "stdout",
          "text": [
            "Enter the first number: 25\n",
            "Enter the second number: 26\n",
            "25.0 + 26.0 = 51.0\n",
            "25.0 / 26.0 = 0.9615384615384616\n"
          ]
        }
      ]
    },
    {
      "cell_type": "code",
      "source": [
        "# 8.Write a program to demonstrate the use of logical operators.\n",
        "x = 5\n",
        "y = 10\n",
        "z = 5\n",
        "\n",
        "# AND operator (both conditions must be True)\n",
        "print(\"AND operator:\")\n",
        "print(f\"{x} > 0 and {y} > 0: {x > 0 and y > 0}\")\n",
        "print(f\"{x} > 0 and {y} < 0: {x > 0 and y < 0}\")\n",
        "\n",
        "# OR operator (at least one condition must be True)\n",
        "print(\"\\nOR operator:\")\n",
        "print(f\"{x} > 0 or {y} > 0: {x > 0 or y > 0}\")\n",
        "print(f\"{x} < 0 or {y} < 0: {x < 0 or y < 0}\")"
      ],
      "metadata": {
        "id": "yJ6SZqxJjbf9",
        "colab": {
          "base_uri": "https://localhost:8080/"
        },
        "outputId": "7eea76d7-0cc0-437f-ef50-42bb7ce589ce"
      },
      "execution_count": 39,
      "outputs": [
        {
          "output_type": "stream",
          "name": "stdout",
          "text": [
            "AND operator:\n",
            "5 > 0 and 10 > 0: True\n",
            "5 > 0 and 10 < 0: False\n",
            "\n",
            "OR operator:\n",
            "5 > 0 or 10 > 0: True\n",
            "5 < 0 or 10 < 0: False\n"
          ]
        }
      ]
    },
    {
      "cell_type": "code",
      "source": [
        "# 9. Write a Python program to convert user input from string to integer, float, and boolean types.\n",
        "def convert_input(user_input):\n",
        "    # Try to convert to integer\n",
        "    try:\n",
        "        int_value = int(user_input)\n",
        "        print(f\"Integer conversion: {int_value}\")\n",
        "    except ValueError:\n",
        "        print(\"Cannot convert to integer\")\n",
        "\n",
        "    # Try to convert to float\n",
        "    try:\n",
        "        float_value = float(user_input)\n",
        "        print(f\"Float conversion: {float_value}\")\n",
        "    except ValueError:\n",
        "        print(\"Cannot convert to float\")\n",
        "\n",
        "    # Try to convert to boolean\n",
        "    if user_input.lower() == \"true\":\n",
        "        bool_value = True\n",
        "        print(f\"Boolean conversion: {bool_value}\")\n",
        "    elif user_input.lower() == \"false\":\n",
        "        bool_value = False\n",
        "        print(f\"Boolean conversion: {bool_value}\")\n",
        "    else:\n",
        "        print(\"Cannot convert to boolean (use 'True' or 'False')\")\n",
        "\n",
        "def main():\n",
        "    user_input = input(\"Enter a value: \")\n",
        "    convert_input(user_input)\n",
        "\n",
        "if __name__ == \"__main__\":\n",
        "    main()"
      ],
      "metadata": {
        "colab": {
          "base_uri": "https://localhost:8080/"
        },
        "id": "eqZC6t2BfKyK",
        "outputId": "220e376b-cf3c-438a-9590-778bf329ed6e"
      },
      "execution_count": 24,
      "outputs": [
        {
          "output_type": "stream",
          "name": "stdout",
          "text": [
            "Enter a value: 25\n",
            "Integer conversion: 25\n",
            "Float conversion: 25.0\n",
            "Cannot convert to boolean (use 'True' or 'False')\n"
          ]
        }
      ]
    },
    {
      "cell_type": "code",
      "source": [
        "# 10.Write code to demonstrate type casting with list elements.\n",
        "\n",
        "# Original list with string elements\n",
        "string_list = [\"1\", \"2\", \"3\", \"4\", \"5\"]\n",
        "\n",
        "# Print original list\n",
        "print(\"Original list:\", string_list)\n",
        "\n",
        "# Type casting string elements to integers\n",
        "int_list = [int(x) for x in string_list]\n",
        "\n",
        "# Print list with integer elements\n",
        "print(\"List with integer elements:\", int_list)\n",
        "\n",
        "# Type casting integer elements to floats\n",
        "float_list = [float(x) for x in int_list]\n",
        "\n",
        "# Print list with float elements\n",
        "print(\"List with float elements:\", float_list)\n",
        "\n",
        "# Type casting float elements back to strings\n",
        "str_list = [str(x) for x in float_list]\n",
        "\n",
        "# Print list with string elements\n",
        "print(\"List with string elements (again):\", str_list)\n",
        "\n",
        "# Another example with a mixed-type list\n",
        "mixed_list = [\"10\", \"20.5\", \"30\"]\n",
        "\n",
        "# Type casting mixed-type list elements to floats\n",
        "float_list_mixed = []\n",
        "for x in mixed_list:\n",
        "    try:\n",
        "        float_list_mixed.append(float(x))\n",
        "    except ValueError:\n",
        "        print(f\"Cannot convert {x} to float\")\n",
        "\n",
        "# Print list with float elements\n",
        "print(\"List with float elements (mixed):\", float_list_mixed)"
      ],
      "metadata": {
        "colab": {
          "base_uri": "https://localhost:8080/"
        },
        "id": "bAG1yzUPfKpC",
        "outputId": "27aba4e4-3b0d-42e8-e562-fdbbeb6bd5e7"
      },
      "execution_count": 25,
      "outputs": [
        {
          "output_type": "stream",
          "name": "stdout",
          "text": [
            "Original list: ['1', '2', '3', '4', '5']\n",
            "List with integer elements: [1, 2, 3, 4, 5]\n",
            "List with float elements: [1.0, 2.0, 3.0, 4.0, 5.0]\n",
            "List with string elements (again): ['1.0', '2.0', '3.0', '4.0', '5.0']\n",
            "List with float elements (mixed): [10.0, 20.5, 30.0]\n"
          ]
        }
      ]
    },
    {
      "cell_type": "code",
      "source": [
        "# 11.Write a program that checks if a number is positive, negative, or zero.\n",
        "def check_number(num):\n",
        "    if num > 0:\n",
        "        print(f\"{num} is a positive number.\")\n",
        "    elif num < 0:\n",
        "        print(f\"{num} is a negative number.\")\n",
        "    else:\n",
        "        print(f\"{num} is zero.\")\n",
        "\n",
        "def main():\n",
        "    try:\n",
        "        num = float(input(\"Enter a number: \"))\n",
        "        check_number(num)\n",
        "    except ValueError:\n",
        "        print(\"Invalid input. Please enter a valid number.\")\n",
        "\n",
        "if __name__ == \"__main__\":\n",
        "    main()"
      ],
      "metadata": {
        "colab": {
          "base_uri": "https://localhost:8080/"
        },
        "id": "cr-cOeAffKb4",
        "outputId": "cd4171a8-8a1d-41d3-b0da-f844c6261dc0"
      },
      "execution_count": 27,
      "outputs": [
        {
          "output_type": "stream",
          "name": "stdout",
          "text": [
            "Enter a number: 25\n",
            "25.0 is a positive number.\n"
          ]
        }
      ]
    },
    {
      "cell_type": "code",
      "source": [
        "# 12. Write a for loop to print numbers from 1 to 10.\n",
        "for i in range(1,5):\n",
        "  print(i)"
      ],
      "metadata": {
        "colab": {
          "base_uri": "https://localhost:8080/"
        },
        "id": "470df444fJt-",
        "outputId": "7a303c43-6585-41aa-d146-35868a72da65"
      },
      "execution_count": 30,
      "outputs": [
        {
          "output_type": "stream",
          "name": "stdout",
          "text": [
            "1\n",
            "2\n",
            "3\n",
            "4\n"
          ]
        }
      ]
    },
    {
      "cell_type": "code",
      "source": [
        "# 13. Write a Python program to find the sum of all even numbers between 1 and 50.\n",
        "def sum_even_numbers():\n",
        "    sum_even = 0\n",
        "    for i in range(1, 51):\n",
        "        if i % 2 == 0:\n",
        "            sum_even += i\n",
        "    print(f\"The sum of all even numbers between 1 and 50 is: {sum_even}\")\n",
        "\n",
        "sum_even_numbers()"
      ],
      "metadata": {
        "colab": {
          "base_uri": "https://localhost:8080/"
        },
        "id": "33NLmW9EfJaL",
        "outputId": "1a01f937-8969-4d44-bf73-2dee746b59bd"
      },
      "execution_count": 31,
      "outputs": [
        {
          "output_type": "stream",
          "name": "stdout",
          "text": [
            "The sum of all even numbers between 1 and 50 is: 650\n"
          ]
        }
      ]
    },
    {
      "cell_type": "code",
      "source": [
        "# 14.Write a program to reverse a string using a while loop.\n",
        "def reverse_string(s):\n",
        "    reversed_s = \"\"\n",
        "    i = len(s) - 1\n",
        "    while i >= 0:\n",
        "        reversed_s += s[i]\n",
        "        i -= 1\n",
        "    return reversed_s\n",
        "def main():\n",
        "    s = input(\"Enter a string: \")\n",
        "    print(\"Reversed string:\", reverse_string(s))\n",
        "\n",
        "if __name__ == \"__main__\":\n",
        "    main()\n",
        "\n"
      ],
      "metadata": {
        "id": "6tBLmKfLfJE6"
      },
      "execution_count": 34,
      "outputs": []
    },
    {
      "cell_type": "code",
      "source": [
        "# 15.Write a Python program to calculate the factorial of a number provided by the user using a while loop\n",
        "def factorial(n):\n",
        "    if n < 0:\n",
        "        return \"Factorial is not defined for negative numbers\"\n",
        "    elif n == 0 or n == 1:\n",
        "        return 1\n",
        "    else:\n",
        "        fact = 1\n",
        "        i = 2\n",
        "        while i <= n:\n",
        "            fact *= i\n",
        "            i += 1\n",
        "        return fact\n",
        "\n",
        "def main():\n",
        "    try:\n",
        "        n = int(input(\"Enter a non-negative integer: \"))\n",
        "        result = factorial(n)\n",
        "        print(f\"The factorial of {n} is: {result}\")\n",
        "    except ValueError:\n",
        "        print(\"Invalid input. Please enter a valid integer.\")\n",
        "\n",
        "if __name__ == \"__main__\":\n",
        "    main()"
      ],
      "metadata": {
        "colab": {
          "base_uri": "https://localhost:8080/"
        },
        "id": "DWJ5Gw0mj1Hw",
        "outputId": "7b3e124f-d82f-4109-bcc9-2cd34af24218"
      },
      "execution_count": 35,
      "outputs": [
        {
          "output_type": "stream",
          "name": "stdout",
          "text": [
            "Enter a non-negative integer: 25\n",
            "The factorial of 25 is: 15511210043330985984000000\n"
          ]
        }
      ]
    },
    {
      "cell_type": "markdown",
      "source": [],
      "metadata": {
        "id": "wAdD4i9_fCPR"
      }
    },
    {
      "cell_type": "markdown",
      "source": [],
      "metadata": {
        "id": "CDNfMwmWe8lV"
      }
    }
  ]
}